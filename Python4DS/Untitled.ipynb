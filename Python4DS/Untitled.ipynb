{
 "cells": [
  {
   "cell_type": "code",
   "execution_count": 1,
   "metadata": {},
   "outputs": [
    {
     "name": "stdout",
     "output_type": "stream",
     "text": [
      "MSEdge - Win10.ova                      Untitled.ipynb\r\n",
      "\u001b[0m\u001b[01;31mMSEdge.Win10.VirtualBox.zip\u001b[0m             \u001b[01;31mWeek-1-Intro-new.zip\u001b[0m\r\n",
      "release_notes_license_terms_8_1_15.pdf  \u001b[01;31mWeek-2-UNIXDataFiles.zip\u001b[0m\r\n",
      "\u001b[01;34mSTAT\u001b[0m/\r\n"
     ]
    }
   ],
   "source": [
    "ls"
   ]
  },
  {
   "cell_type": "code",
   "execution_count": 3,
   "metadata": {},
   "outputs": [
    {
     "name": "stdout",
     "output_type": "stream",
     "text": [
      "total 10250732\r\n",
      "drwxrwxr-x 4 muha muha       4096 Jul 29 01:12 \u001b[0m\u001b[01;34m.\u001b[0m/\r\n",
      "drwxrwxr-x 3 muha muha       4096 Jul 28 19:13 \u001b[01;34m..\u001b[0m/\r\n",
      "drwxrwxr-x 2 muha muha       4096 Jul 29 01:12 \u001b[01;34m.ipynb_checkpoints\u001b[0m/\r\n",
      "-rw-rw-r-- 1 muha muha 5275771904 Oct 23  2017 MSEdge - Win10.ova\r\n",
      "-rw-rw-r-- 1 muha muha 5217603343 Mar 10 17:16 \u001b[01;31mMSEdge.Win10.VirtualBox.zip\u001b[0m\r\n",
      "-rw-rw-r-- 1 muha muha     676908 Mar 10 17:18 release_notes_license_terms_8_1_15.pdf\r\n",
      "drwxrwxr-x 4 muha muha       4096 Mar 10 17:25 \u001b[01;34mSTAT\u001b[0m/\r\n",
      "-rw-rw-r-- 1 muha muha         72 Jul 29 01:12 Untitled.ipynb\r\n",
      "-rw-rw-r-- 1 muha muha     284034 Dec  1  2017 \u001b[01;31mWeek-1-Intro-new.zip\u001b[0m\r\n",
      "-rw-rw-r-- 1 muha muha    2355733 Jul 28 19:12 \u001b[01;31mWeek-2-UNIXDataFiles.zip\u001b[0m\r\n"
     ]
    }
   ],
   "source": [
    "ls -la"
   ]
  },
  {
   "cell_type": "code",
   "execution_count": null,
   "metadata": {},
   "outputs": [],
   "source": []
  }
 ],
 "metadata": {
  "kernelspec": {
   "display_name": "Python 3",
   "language": "python",
   "name": "python3"
  },
  "language_info": {
   "codemirror_mode": {
    "name": "ipython",
    "version": 3
   },
   "file_extension": ".py",
   "mimetype": "text/x-python",
   "name": "python",
   "nbconvert_exporter": "python",
   "pygments_lexer": "ipython3",
   "version": "3.6.3"
  }
 },
 "nbformat": 4,
 "nbformat_minor": 2
}
